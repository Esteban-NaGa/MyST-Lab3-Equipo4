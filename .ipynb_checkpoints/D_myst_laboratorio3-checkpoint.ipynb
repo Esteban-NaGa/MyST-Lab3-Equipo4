{
 "cells": [
  {
   "cell_type": "markdown",
   "metadata": {},
   "source": [
    "# Microestructuras y Sitemas de Trading - Laboratorio 3\n",
    "\n",
    "## Equipo 4:\n",
    "\n",
    "### Esteban Navarrete\n",
    "\n",
    "### Jocelyn Medel\n",
    "\n",
    "### Juan López"
   ]
  },
  {
   "cell_type": "markdown",
   "metadata": {},
   "source": [
    "Descripción: Cortar más rapido las pérdidas que las ganancias.\n",
    "\n",
    "Analizar las operaciónes a las que pierdes y en las que ganas por sus lapsos de tiempo, revisar cuanto tiempo tomó tenerlas en perdidas y lo mismo con las de las ganancias.\n",
    "\n",
    "Checar cuando cortó el TP/SL y que tan rápido lo cortaba según iba ganando o perdiendo. Sacar interpretaciones."
   ]
  },
  {
   "cell_type": "code",
   "execution_count": null,
   "metadata": {},
   "outputs": [],
   "source": []
  }
 ],
 "metadata": {
  "kernelspec": {
   "display_name": "Python 3",
   "language": "python",
   "name": "python3"
  },
  "language_info": {
   "codemirror_mode": {
    "name": "ipython",
    "version": 3
   },
   "file_extension": ".py",
   "mimetype": "text/x-python",
   "name": "python",
   "nbconvert_exporter": "python",
   "pygments_lexer": "ipython3",
   "version": "3.6.5"
  }
 },
 "nbformat": 4,
 "nbformat_minor": 2
}
