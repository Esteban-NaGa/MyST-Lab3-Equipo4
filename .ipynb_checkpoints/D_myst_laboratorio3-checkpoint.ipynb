{
 "cells": [
  {
   "cell_type": "markdown",
   "metadata": {},
   "source": [
    "___\n",
    "<img style=\"float: right; margin: 0px 0px 15px 15px;\" src=\"https://www.carrerasenlinea.mx/logos/original/logo-instituto-tecnologico-y-de-estudios-superiores-de-occidente.png\" width=\"150px\" height=\"100px\" />\n",
    "\n",
    "\n",
    "# MICROESTRUCTURAS Y SISTEMAS DE \"TRADING\"\n",
    "# LABORATORIO 3\n",
    "\n",
    "## Nombre: Jocelyn Medel Ruiz, Esteban Navarrete, Juan Lopez\n",
    "\n",
    "## Fecha: 27 de Octubre 2019"
   ]
  },
  {
   "cell_type": "markdown",
   "metadata": {},
   "source": [
    "Descripción: Cortar más rapido las pérdidas que las ganancias.\n",
    "\n",
    "Analizar las operaciónes a las que pierdes y en las que ganas por sus lapsos de tiempo, revisar cuanto tiempo tomó tenerlas en perdidas y lo mismo con las de las ganancias.\n",
    "\n",
    "Checar cuando cortó el TP/SL y que tan rápido lo cortaba según iba ganando o perdiendo. Sacar interpretaciones"
   ]
  },
  {
   "cell_type": "code",
   "execution_count": null,
   "metadata": {},
   "outputs": [],
   "source": []
  }
 ],
 "metadata": {
  "kernelspec": {
   "display_name": "Python 3",
   "language": "python",
   "name": "python3"
  },
  "language_info": {
   "codemirror_mode": {
    "name": "ipython",
    "version": 3
   },
   "file_extension": ".py",
   "mimetype": "text/x-python",
   "name": "python",
   "nbconvert_exporter": "python",
   "pygments_lexer": "ipython3",
   "version": "3.7.3"
  }
 },
 "nbformat": 4,
 "nbformat_minor": 2
}
