{
 "cells": [
  {
   "cell_type": "code",
   "execution_count": 1,
   "metadata": {},
   "outputs": [],
   "source": [
    "import numpy as np\n",
    "import pandas as pd\n",
    "# import json"
   ]
  },
  {
   "cell_type": "markdown",
   "metadata": {},
   "source": [
    "___\n",
    "<img style=\"float: right; margin: 0px 0px 15px 15px;\" src=\"https://www.carrerasenlinea.mx/logos/original/logo-instituto-tecnologico-y-de-estudios-superiores-de-occidente.png\" width=\"150px\" height=\"100px\" />\n",
    "\n",
    "\n",
    "# MICROESTRUCTURAS Y SISTEMAS DE \"TRADING\"\n",
    "# LABORATORIO 3\n",
    "\n",
    "## Nombre: Jocelyn Medel Ruiz, Esteban Navarrete, Juan Lopez\n",
    "\n",
    "## Fecha: 27 de Octubre 2019\n",
    "\n"
   ]
  },
  {
   "cell_type": "markdown",
   "metadata": {},
   "source": [
    "#### Descripción: Cortar más rapido las pérdidas que las ganancias.\n",
    "\n",
    "#### Analizar las operaciónes a las que pierdes y en las que ganas por sus lapsos de tiempo, revisar cuanto tiempo tomó tenerlas en perdidas y lo mismo con las de las ganancias.\n",
    "\n",
    "#### Checar cuando cortó el TP/SL y que tan rápido lo cortaba según iba ganando o perdiendo. Sacar interpretaciones."
   ]
  },
  {
   "cell_type": "code",
   "execution_count": 2,
   "metadata": {},
   "outputs": [],
   "source": [
    "#%%\n",
    "#Opciones para visualizar data frames en consola\n",
    "pd.set_option('display.max_rows', 5000)\n",
    "pd.set_option('display.max_columns', 500)\n",
    "pd.set_option('display.width', 1000)"
   ]
  },
  {
   "cell_type": "code",
   "execution_count": 3,
   "metadata": {},
   "outputs": [
    {
     "data": {
      "text/html": [
       "<div>\n",
       "<style scoped>\n",
       "    .dataframe tbody tr th:only-of-type {\n",
       "        vertical-align: middle;\n",
       "    }\n",
       "\n",
       "    .dataframe tbody tr th {\n",
       "        vertical-align: top;\n",
       "    }\n",
       "\n",
       "    .dataframe thead th {\n",
       "        text-align: right;\n",
       "    }\n",
       "</style>\n",
       "<table border=\"1\" class=\"dataframe\">\n",
       "  <thead>\n",
       "    <tr style=\"text-align: right;\">\n",
       "      <th></th>\n",
       "      <th>Order</th>\n",
       "      <th>openTime</th>\n",
       "      <th>Type</th>\n",
       "      <th>Size</th>\n",
       "      <th>Symbol</th>\n",
       "      <th>openPrice</th>\n",
       "      <th>S/L</th>\n",
       "      <th>T/P</th>\n",
       "      <th>closeTime</th>\n",
       "      <th>closePrice</th>\n",
       "      <th>Commission</th>\n",
       "      <th>Taxes</th>\n",
       "      <th>Swap</th>\n",
       "      <th>Profit</th>\n",
       "    </tr>\n",
       "  </thead>\n",
       "  <tbody>\n",
       "    <tr>\n",
       "      <th>0</th>\n",
       "      <td>24316034</td>\n",
       "      <td>2019.08.27 06:57:50</td>\n",
       "      <td>buy</td>\n",
       "      <td>0.04</td>\n",
       "      <td>xauusd</td>\n",
       "      <td>1529.21000</td>\n",
       "      <td>1523.000</td>\n",
       "      <td>1543.0000</td>\n",
       "      <td>2019.08.27 09:16:01</td>\n",
       "      <td>1533.69000</td>\n",
       "      <td>0.0</td>\n",
       "      <td>0</td>\n",
       "      <td>0</td>\n",
       "      <td>17.92</td>\n",
       "    </tr>\n",
       "    <tr>\n",
       "      <th>1</th>\n",
       "      <td>24334215</td>\n",
       "      <td>2019.08.27 17:06:20</td>\n",
       "      <td>buy</td>\n",
       "      <td>0.01</td>\n",
       "      <td>eurjpy</td>\n",
       "      <td>117.66400</td>\n",
       "      <td>116.950</td>\n",
       "      <td>118.7000</td>\n",
       "      <td>2019.08.29 06:38:16</td>\n",
       "      <td>117.37400</td>\n",
       "      <td>0.0</td>\n",
       "      <td>0</td>\n",
       "      <td>0</td>\n",
       "      <td>-2.73</td>\n",
       "    </tr>\n",
       "    <tr>\n",
       "      <th>2</th>\n",
       "      <td>24342155</td>\n",
       "      <td>2019.08.27 19:25:39</td>\n",
       "      <td>buy</td>\n",
       "      <td>0.05</td>\n",
       "      <td>eurjpy</td>\n",
       "      <td>117.34600</td>\n",
       "      <td>116.950</td>\n",
       "      <td>119.7000</td>\n",
       "      <td>2019.08.28 21:01:24</td>\n",
       "      <td>117.45200</td>\n",
       "      <td>0.0</td>\n",
       "      <td>0</td>\n",
       "      <td>0</td>\n",
       "      <td>5.00</td>\n",
       "    </tr>\n",
       "    <tr>\n",
       "      <th>3</th>\n",
       "      <td>24373260</td>\n",
       "      <td>2019.08.28 17:11:33</td>\n",
       "      <td>buy</td>\n",
       "      <td>0.01</td>\n",
       "      <td>eurusd</td>\n",
       "      <td>1.10791</td>\n",
       "      <td>1.104</td>\n",
       "      <td>1.1175</td>\n",
       "      <td>2019.08.29 06:38:28</td>\n",
       "      <td>1.10818</td>\n",
       "      <td>0.0</td>\n",
       "      <td>0</td>\n",
       "      <td>0</td>\n",
       "      <td>0.27</td>\n",
       "    </tr>\n",
       "    <tr>\n",
       "      <th>4</th>\n",
       "      <td>24392415</td>\n",
       "      <td>2019.08.29 06:35:27</td>\n",
       "      <td>buy</td>\n",
       "      <td>0.01</td>\n",
       "      <td>gbpusd</td>\n",
       "      <td>1.22024</td>\n",
       "      <td>1.208</td>\n",
       "      <td>1.2370</td>\n",
       "      <td>2019.08.29 06:37:23</td>\n",
       "      <td>1.21990</td>\n",
       "      <td>0.0</td>\n",
       "      <td>0</td>\n",
       "      <td>0</td>\n",
       "      <td>-0.34</td>\n",
       "    </tr>\n",
       "  </tbody>\n",
       "</table>\n",
       "</div>"
      ],
      "text/plain": [
       "      Order             openTime Type  Size  Symbol   openPrice       S/L        T/P            closeTime  closePrice  Commission  Taxes  Swap  Profit\n",
       "0  24316034  2019.08.27 06:57:50  buy  0.04  xauusd  1529.21000  1523.000  1543.0000  2019.08.27 09:16:01  1533.69000         0.0      0     0   17.92\n",
       "1  24334215  2019.08.27 17:06:20  buy  0.01  eurjpy   117.66400   116.950   118.7000  2019.08.29 06:38:16   117.37400         0.0      0     0   -2.73\n",
       "2  24342155  2019.08.27 19:25:39  buy  0.05  eurjpy   117.34600   116.950   119.7000  2019.08.28 21:01:24   117.45200         0.0      0     0    5.00\n",
       "3  24373260  2019.08.28 17:11:33  buy  0.01  eurusd     1.10791     1.104     1.1175  2019.08.29 06:38:28     1.10818         0.0      0     0    0.27\n",
       "4  24392415  2019.08.29 06:35:27  buy  0.01  gbpusd     1.22024     1.208     1.2370  2019.08.29 06:37:23     1.21990         0.0      0     0   -0.34"
      ]
     },
     "execution_count": 3,
     "metadata": {},
     "output_type": "execute_result"
    }
   ],
   "source": [
    "#%%\n",
    "#Ingreso de datos de entrada: leer archivo json\n",
    "archivo = '../MyST-Lab3-Equipo4/archivo_tradeview_2.xlsx'\n",
    "df_datos = pd.read_excel(archivo,\n",
    "                        header=0,\n",
    "                        sep=',',\n",
    "                        parse_dates=False,\n",
    "                        skip_blank_lines=True)\n",
    "df_datos.head()"
   ]
  },
  {
   "cell_type": "code",
   "execution_count": null,
   "metadata": {},
   "outputs": [],
   "source": [
    "df_datos = df_datos.drop(['Order', 'Size', 'Commission', 'Taxes', 'Swap'], 1) #El 1 se refiere a columnas, si fuera 0 serian filas\n"
   ]
  },
  {
   "cell_type": "code",
   "execution_count": null,
   "metadata": {},
   "outputs": [],
   "source": [
    "df_datos = df_datos.reset_index()\n"
   ]
  },
  {
   "cell_type": "code",
   "execution_count": null,
   "metadata": {},
   "outputs": [],
   "source": [
    "#%%renombrar columnas, en minusculas por convencion\n",
    "df_datos.rename(columns={'Type' : 'type', 'Symbol': 'symbol',\n",
    "                            'S/L' : 'sl', 'T/P':'tp', 'Profit': 'profit'},\n",
    "                inplace=True)"
   ]
  },
  {
   "cell_type": "code",
   "execution_count": null,
   "metadata": {},
   "outputs": [],
   "source": [
    "df_datos=df_datos.join(pd.DataFrame(df_datos['openPrice']-df_datos['closePrice']))\n"
   ]
  },
  {
   "cell_type": "code",
   "execution_count": null,
   "metadata": {},
   "outputs": [],
   "source": []
  }
 ],
 "metadata": {
  "kernelspec": {
   "display_name": "Python 3",
   "language": "python",
   "name": "python3"
  },
  "language_info": {
   "codemirror_mode": {
    "name": "ipython",
    "version": 3
   },
   "file_extension": ".py",
   "mimetype": "text/x-python",
   "name": "python",
   "nbconvert_exporter": "python",
   "pygments_lexer": "ipython3",
   "version": "3.7.3"
  }
 },
 "nbformat": 4,
 "nbformat_minor": 2
}
